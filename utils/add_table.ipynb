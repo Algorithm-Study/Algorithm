{
 "cells": [
  {
   "cell_type": "code",
   "execution_count": null,
   "metadata": {},
   "outputs": [],
   "source": [
    "import datetime"
   ]
  },
  {
   "cell_type": "code",
   "execution_count": null,
   "metadata": {},
   "outputs": [],
   "source": [
    "n = input()"
   ]
  },
  {
   "cell_type": "code",
   "execution_count": null,
   "metadata": {},
   "outputs": [],
   "source": [
    "n = n.replace('\\n', \"\")\n",
    "n_list = n.split(\"\t\")\n",
    "now = datetime.datetime.now()\n",
    "date = f'{now.year}.{now.month:0>2}.{now.day:0>2}'\n",
    "problem_names = []\n",
    "lvl = []\n",
    "category = []\n",
    "table = ['','','','']\n",
    "for idx, s in enumerate(n_list):\n",
    "    if idx % 4 == 0 and 'acmicpc' in s:\n",
    "        problem_names.append(f'[백준 - {n_list[idx+3]}]({s})')\n",
    "    elif idx % 4 == 0 and 'programmers' in s:\n",
    "        problem_names.append(f'[프로그래머스 - {n_list[idx+3]}]({s})')\n",
    "    elif idx % 4 == 1 and s != '':\n",
    "        lvl.append(f'{s}')\n",
    "    elif idx % 4 == 2 and s != '':\n",
    "        category.append(s)\n",
    "\n",
    "# print(date, problem_names, lvl, category)\n",
    "table[0] += date\n",
    "table[1] += '<br>'.join(problem_names)\n",
    "table[2] += '<br>'.join(lvl)\n",
    "table[3] += '<br>'.join(category)\n",
    "answer = '|'+'|'.join(table)+'|'\n",
    "\n",
    "print(answer)"
   ]
  }
 ],
 "metadata": {
  "kernelspec": {
   "display_name": "Python 3.9.5 64-bit",
   "language": "python",
   "name": "python3"
  },
  "language_info": {
   "codemirror_mode": {
    "name": "ipython",
    "version": 3
   },
   "file_extension": ".py",
   "mimetype": "text/x-python",
   "name": "python",
   "nbconvert_exporter": "python",
   "pygments_lexer": "ipython3",
   "version": "3.9.5"
  },
  "orig_nbformat": 4,
  "vscode": {
   "interpreter": {
    "hash": "1d5c1156327dacead463cc502c55ebae8ce9c8c01979cf154173ff808e75bf55"
   }
  }
 },
 "nbformat": 4,
 "nbformat_minor": 2
}
